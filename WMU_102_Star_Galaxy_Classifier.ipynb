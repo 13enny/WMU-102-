{
  "nbformat": 4,
  "nbformat_minor": 0,
  "metadata": {
    "colab": {
      "name": "WMU 102 - Group Project (Star/Galaxy Classifier)",
      "provenance": [],
      "collapsed_sections": [],
      "include_colab_link": true
    },
    "kernelspec": {
      "name": "python3",
      "display_name": "Python 3"
    },
    "language_info": {
      "name": "python"
    }
  },
  "cells": [
    {
      "cell_type": "markdown",
      "metadata": {
        "id": "view-in-github",
        "colab_type": "text"
      },
      "source": [
        "<a href=\"https://colab.research.google.com/github/13enny/WMU-102-/blob/main/WMU_102_Star_Galaxy_Classifier.ipynb\" target=\"_parent\"><img src=\"https://colab.research.google.com/assets/colab-badge.svg\" alt=\"Open In Colab\"/></a>"
      ]
    },
    {
      "cell_type": "markdown",
      "source": [
        "# Project Info"
      ],
      "metadata": {
        "id": "1bcfxEGRyRlR"
      }
    },
    {
      "cell_type": "markdown",
      "source": [
        "WMU 102 - Makers@USM \n",
        "\n",
        "Group Project: Star/Galaxy Classifier\n",
        "\n",
        "Group Members: Benny Tan, Chan Jun Wei, Chow Wen Iou\n"
      ],
      "metadata": {
        "id": "5mg1Xhvayavn"
      }
    },
    {
      "cell_type": "markdown",
      "source": [
        "# Introduction\n"
      ],
      "metadata": {
        "id": "OJreT7Dy_2Gw"
      }
    },
    {
      "cell_type": "markdown",
      "source": [
        "Stars and galaxies are obviously two different stellar objects, however under the naked eye, faraway stars and galaxies look similar as they begin to become point sources. A simple example would be to take the Sun and the Milky Way and put them at a very, very far location. At some point, they would both look like a single bright dot and become indistinguishable. Some of the methods used to distinguish them are spectroscopy and photometry.\n",
        "\n",
        "In general, spectroscopy is the measurement of intensity at each wavelength across the entire electromagnetic spectrum. And photometry is performed by measuring the flux or intensity of radiating objects as seen from the human eye using a telescope and photometer.\n",
        "\n",
        "There are three commonly known types of spectroscopy,\n",
        "\n",
        "1. Continuum spectrum: Radiation spectrum obtained directly from the stellar object.\n",
        "2. Absorption spectrum: The stellar object is blocked by a interstellar cloud, and photons in the cloud absorb energy from the radiation. Thus producing some low intensities for particular wavelengths.\n",
        "3. Emission spectrum: The spectrum is obtained by observing the interstellar cloud, hence sharp peaks of particular wavelengths are detected.\n",
        "\n",
        "Stars are singular objects of light which usually are easily identified from their absorption spectrum, whereas galaxies are clusters of stars and other radiating matter in the galaxy. Hence, the spectrums of galaxies are usually more complicated.\n",
        "\n",
        "With the advancement of technology, the information obtained and derived from spectroscopy and photometry can be utilised to produce good datasets suitable for machine learning (ML). And the aim of this project is to determine a suitable ML model that **can accurately classify between stars and galaxies**."
      ],
      "metadata": {
        "id": "WmbKgumjS4BP"
      }
    },
    {
      "cell_type": "markdown",
      "source": [
        "# Data\n"
      ],
      "metadata": {
        "id": "pMvp074z_-uv"
      }
    },
    {
      "cell_type": "code",
      "source": [
        "#First we import the libraries needed\n",
        "import pandas as pd\n",
        "import pandas_profiling\n",
        "import numpy as np\n",
        "import seaborn as sns\n",
        "import matplotlib.pyplot as plt\n",
        "%matplotlib inline\n",
        "\n",
        "#Here we begin the first step our project, uploading the dataset that we had obtained from SDSS website.\n",
        "from google.colab import files\n",
        "uploaded = files.upload()"
      ],
      "metadata": {
        "colab": {
          "resources": {
            "http://localhost:8080/nbextensions/google.colab/files.js": {
              "data": "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",
              "ok": true,
              "headers": [
                [
                  "content-type",
                  "application/javascript"
                ]
              ],
              "status": 200,
              "status_text": ""
            }
          },
          "base_uri": "https://localhost:8080/",
          "height": 73
        },
        "id": "c3QTdSBu3_KZ",
        "outputId": "168e19e0-6187-486b-bb7f-675561f3ba88"
      },
      "execution_count": null,
      "outputs": [
        {
          "output_type": "display_data",
          "data": {
            "text/html": [
              "\n",
              "     <input type=\"file\" id=\"files-09f31977-692e-4040-b82b-d879b1cc1cb0\" name=\"files[]\" multiple disabled\n",
              "        style=\"border:none\" />\n",
              "     <output id=\"result-09f31977-692e-4040-b82b-d879b1cc1cb0\">\n",
              "      Upload widget is only available when the cell has been executed in the\n",
              "      current browser session. Please rerun this cell to enable.\n",
              "      </output>\n",
              "      <script src=\"/nbextensions/google.colab/files.js\"></script> "
            ],
            "text/plain": [
              "<IPython.core.display.HTML object>"
            ]
          },
          "metadata": {}
        },
        {
          "output_type": "stream",
          "name": "stdout",
          "text": [
            "Saving star_galaxy.csv to star_galaxy (1).csv\n"
          ]
        }
      ]
    },
    {
      "cell_type": "code",
      "source": [
        "#Giving a name to our dataset, the naming is completely arbitary.\n",
        "df = pd.read_csv('star_galaxy.csv')\n",
        "\n",
        "#Let's take a first glance to our dataset\n",
        "df"
      ],
      "metadata": {
        "colab": {
          "base_uri": "https://localhost:8080/",
          "height": 505
        },
        "id": "z5iLgIZc4pwA",
        "outputId": "a0bce49a-77c4-4578-a84e-0fff00243a78"
      },
      "execution_count": null,
      "outputs": [
        {
          "output_type": "execute_result",
          "data": {
            "text/html": [
              "\n",
              "  <div id=\"df-5072409f-f3d7-48bb-8e7e-ef894e3c6627\">\n",
              "    <div class=\"colab-df-container\">\n",
              "      <div>\n",
              "<style scoped>\n",
              "    .dataframe tbody tr th:only-of-type {\n",
              "        vertical-align: middle;\n",
              "    }\n",
              "\n",
              "    .dataframe tbody tr th {\n",
              "        vertical-align: top;\n",
              "    }\n",
              "\n",
              "    .dataframe thead th {\n",
              "        text-align: right;\n",
              "    }\n",
              "</style>\n",
              "<table border=\"1\" class=\"dataframe\">\n",
              "  <thead>\n",
              "    <tr style=\"text-align: right;\">\n",
              "      <th></th>\n",
              "      <th>objID</th>\n",
              "      <th>ra</th>\n",
              "      <th>dec</th>\n",
              "      <th>lnLExp_r</th>\n",
              "      <th>lnLDev_r</th>\n",
              "      <th>deVMag_r</th>\n",
              "      <th>expMag_r</th>\n",
              "      <th>modelMag_r</th>\n",
              "      <th>cModelMag_r</th>\n",
              "      <th>deVAB_r</th>\n",
              "      <th>deVRad_i</th>\n",
              "      <th>expRad_i</th>\n",
              "      <th>petroR50_i</th>\n",
              "      <th>petroR90_i</th>\n",
              "      <th>new class</th>\n",
              "    </tr>\n",
              "  </thead>\n",
              "  <tbody>\n",
              "    <tr>\n",
              "      <th>0</th>\n",
              "      <td>1237658629695078502</td>\n",
              "      <td>186.387613</td>\n",
              "      <td>12.260543</td>\n",
              "      <td>-3161.775000</td>\n",
              "      <td>-12036.47000</td>\n",
              "      <td>14.45502</td>\n",
              "      <td>14.09242</td>\n",
              "      <td>14.09242</td>\n",
              "      <td>14.09242</td>\n",
              "      <td>0.474484</td>\n",
              "      <td>29.668200</td>\n",
              "      <td>30.699290</td>\n",
              "      <td>15.296520</td>\n",
              "      <td>33.239020</td>\n",
              "      <td>0</td>\n",
              "    </tr>\n",
              "    <tr>\n",
              "      <th>1</th>\n",
              "      <td>1237661060647617165</td>\n",
              "      <td>49.402127</td>\n",
              "      <td>42.750376</td>\n",
              "      <td>-41.851900</td>\n",
              "      <td>-30.71809</td>\n",
              "      <td>18.53920</td>\n",
              "      <td>18.55011</td>\n",
              "      <td>18.53920</td>\n",
              "      <td>18.53920</td>\n",
              "      <td>0.050000</td>\n",
              "      <td>0.358142</td>\n",
              "      <td>0.456169</td>\n",
              "      <td>0.585767</td>\n",
              "      <td>1.336669</td>\n",
              "      <td>0</td>\n",
              "    </tr>\n",
              "    <tr>\n",
              "      <th>2</th>\n",
              "      <td>1237671123767263327</td>\n",
              "      <td>150.322046</td>\n",
              "      <td>14.127760</td>\n",
              "      <td>-1204.695000</td>\n",
              "      <td>-1203.99300</td>\n",
              "      <td>14.18365</td>\n",
              "      <td>14.18373</td>\n",
              "      <td>14.18365</td>\n",
              "      <td>14.18365</td>\n",
              "      <td>0.399961</td>\n",
              "      <td>0.039652</td>\n",
              "      <td>0.046137</td>\n",
              "      <td>0.625252</td>\n",
              "      <td>1.430240</td>\n",
              "      <td>0</td>\n",
              "    </tr>\n",
              "    <tr>\n",
              "      <th>3</th>\n",
              "      <td>1237651252060422933</td>\n",
              "      <td>259.905270</td>\n",
              "      <td>30.608391</td>\n",
              "      <td>-200.335200</td>\n",
              "      <td>-785.46720</td>\n",
              "      <td>16.66635</td>\n",
              "      <td>17.04451</td>\n",
              "      <td>17.04450</td>\n",
              "      <td>16.92419</td>\n",
              "      <td>0.391293</td>\n",
              "      <td>5.907728</td>\n",
              "      <td>2.942853</td>\n",
              "      <td>2.474750</td>\n",
              "      <td>6.142283</td>\n",
              "      <td>0</td>\n",
              "    </tr>\n",
              "    <tr>\n",
              "      <th>4</th>\n",
              "      <td>1237654652572008582</td>\n",
              "      <td>146.815009</td>\n",
              "      <td>53.493186</td>\n",
              "      <td>-611.635000</td>\n",
              "      <td>-41.07962</td>\n",
              "      <td>17.48758</td>\n",
              "      <td>17.82490</td>\n",
              "      <td>17.48758</td>\n",
              "      <td>17.48758</td>\n",
              "      <td>0.847347</td>\n",
              "      <td>1.636425</td>\n",
              "      <td>1.031812</td>\n",
              "      <td>1.992710</td>\n",
              "      <td>6.437787</td>\n",
              "      <td>0</td>\n",
              "    </tr>\n",
              "    <tr>\n",
              "      <th>...</th>\n",
              "      <td>...</td>\n",
              "      <td>...</td>\n",
              "      <td>...</td>\n",
              "      <td>...</td>\n",
              "      <td>...</td>\n",
              "      <td>...</td>\n",
              "      <td>...</td>\n",
              "      <td>...</td>\n",
              "      <td>...</td>\n",
              "      <td>...</td>\n",
              "      <td>...</td>\n",
              "      <td>...</td>\n",
              "      <td>...</td>\n",
              "      <td>...</td>\n",
              "      <td>...</td>\n",
              "    </tr>\n",
              "    <tr>\n",
              "      <th>15087</th>\n",
              "      <td>1237668294982369408</td>\n",
              "      <td>166.097260</td>\n",
              "      <td>19.917108</td>\n",
              "      <td>-4552.392000</td>\n",
              "      <td>-1187.47900</td>\n",
              "      <td>14.84017</td>\n",
              "      <td>15.33469</td>\n",
              "      <td>14.84017</td>\n",
              "      <td>15.00922</td>\n",
              "      <td>0.723480</td>\n",
              "      <td>12.232070</td>\n",
              "      <td>5.306878</td>\n",
              "      <td>5.691949</td>\n",
              "      <td>16.220020</td>\n",
              "      <td>1</td>\n",
              "    </tr>\n",
              "    <tr>\n",
              "      <th>15088</th>\n",
              "      <td>1237668625161453608</td>\n",
              "      <td>188.644747</td>\n",
              "      <td>18.202675</td>\n",
              "      <td>-3484.692000</td>\n",
              "      <td>-23600.52000</td>\n",
              "      <td>12.78224</td>\n",
              "      <td>12.58221</td>\n",
              "      <td>12.58222</td>\n",
              "      <td>12.61800</td>\n",
              "      <td>0.515024</td>\n",
              "      <td>29.668420</td>\n",
              "      <td>23.654630</td>\n",
              "      <td>20.009930</td>\n",
              "      <td>55.607660</td>\n",
              "      <td>1</td>\n",
              "    </tr>\n",
              "    <tr>\n",
              "      <th>15089</th>\n",
              "      <td>1237674604291162452</td>\n",
              "      <td>215.627979</td>\n",
              "      <td>-1.229203</td>\n",
              "      <td>-15.255700</td>\n",
              "      <td>-258.41580</td>\n",
              "      <td>16.63208</td>\n",
              "      <td>16.67247</td>\n",
              "      <td>16.67246</td>\n",
              "      <td>16.67247</td>\n",
              "      <td>0.299545</td>\n",
              "      <td>29.675350</td>\n",
              "      <td>10.840930</td>\n",
              "      <td>6.918785</td>\n",
              "      <td>15.467980</td>\n",
              "      <td>1</td>\n",
              "    </tr>\n",
              "    <tr>\n",
              "      <th>15090</th>\n",
              "      <td>1237654606410220043</td>\n",
              "      <td>184.675718</td>\n",
              "      <td>5.665423</td>\n",
              "      <td>-1.583351</td>\n",
              "      <td>-200.32720</td>\n",
              "      <td>16.43691</td>\n",
              "      <td>17.22947</td>\n",
              "      <td>17.22947</td>\n",
              "      <td>17.22947</td>\n",
              "      <td>0.556414</td>\n",
              "      <td>27.459160</td>\n",
              "      <td>7.901566</td>\n",
              "      <td>5.713967</td>\n",
              "      <td>12.268810</td>\n",
              "      <td>1</td>\n",
              "    </tr>\n",
              "    <tr>\n",
              "      <th>15091</th>\n",
              "      <td>1237664669508305068</td>\n",
              "      <td>153.137103</td>\n",
              "      <td>36.232859</td>\n",
              "      <td>-364.547100</td>\n",
              "      <td>-90.63972</td>\n",
              "      <td>17.28455</td>\n",
              "      <td>17.44480</td>\n",
              "      <td>17.28455</td>\n",
              "      <td>17.30774</td>\n",
              "      <td>0.210607</td>\n",
              "      <td>2.407334</td>\n",
              "      <td>1.757915</td>\n",
              "      <td>1.617809</td>\n",
              "      <td>4.565220</td>\n",
              "      <td>1</td>\n",
              "    </tr>\n",
              "  </tbody>\n",
              "</table>\n",
              "<p>15092 rows × 15 columns</p>\n",
              "</div>\n",
              "      <button class=\"colab-df-convert\" onclick=\"convertToInteractive('df-5072409f-f3d7-48bb-8e7e-ef894e3c6627')\"\n",
              "              title=\"Convert this dataframe to an interactive table.\"\n",
              "              style=\"display:none;\">\n",
              "        \n",
              "  <svg xmlns=\"http://www.w3.org/2000/svg\" height=\"24px\"viewBox=\"0 0 24 24\"\n",
              "       width=\"24px\">\n",
              "    <path d=\"M0 0h24v24H0V0z\" fill=\"none\"/>\n",
              "    <path d=\"M18.56 5.44l.94 2.06.94-2.06 2.06-.94-2.06-.94-.94-2.06-.94 2.06-2.06.94zm-11 1L8.5 8.5l.94-2.06 2.06-.94-2.06-.94L8.5 2.5l-.94 2.06-2.06.94zm10 10l.94 2.06.94-2.06 2.06-.94-2.06-.94-.94-2.06-.94 2.06-2.06.94z\"/><path d=\"M17.41 7.96l-1.37-1.37c-.4-.4-.92-.59-1.43-.59-.52 0-1.04.2-1.43.59L10.3 9.45l-7.72 7.72c-.78.78-.78 2.05 0 2.83L4 21.41c.39.39.9.59 1.41.59.51 0 1.02-.2 1.41-.59l7.78-7.78 2.81-2.81c.8-.78.8-2.07 0-2.86zM5.41 20L4 18.59l7.72-7.72 1.47 1.35L5.41 20z\"/>\n",
              "  </svg>\n",
              "      </button>\n",
              "      \n",
              "  <style>\n",
              "    .colab-df-container {\n",
              "      display:flex;\n",
              "      flex-wrap:wrap;\n",
              "      gap: 12px;\n",
              "    }\n",
              "\n",
              "    .colab-df-convert {\n",
              "      background-color: #E8F0FE;\n",
              "      border: none;\n",
              "      border-radius: 50%;\n",
              "      cursor: pointer;\n",
              "      display: none;\n",
              "      fill: #1967D2;\n",
              "      height: 32px;\n",
              "      padding: 0 0 0 0;\n",
              "      width: 32px;\n",
              "    }\n",
              "\n",
              "    .colab-df-convert:hover {\n",
              "      background-color: #E2EBFA;\n",
              "      box-shadow: 0px 1px 2px rgba(60, 64, 67, 0.3), 0px 1px 3px 1px rgba(60, 64, 67, 0.15);\n",
              "      fill: #174EA6;\n",
              "    }\n",
              "\n",
              "    [theme=dark] .colab-df-convert {\n",
              "      background-color: #3B4455;\n",
              "      fill: #D2E3FC;\n",
              "    }\n",
              "\n",
              "    [theme=dark] .colab-df-convert:hover {\n",
              "      background-color: #434B5C;\n",
              "      box-shadow: 0px 1px 3px 1px rgba(0, 0, 0, 0.15);\n",
              "      filter: drop-shadow(0px 1px 2px rgba(0, 0, 0, 0.3));\n",
              "      fill: #FFFFFF;\n",
              "    }\n",
              "  </style>\n",
              "\n",
              "      <script>\n",
              "        const buttonEl =\n",
              "          document.querySelector('#df-5072409f-f3d7-48bb-8e7e-ef894e3c6627 button.colab-df-convert');\n",
              "        buttonEl.style.display =\n",
              "          google.colab.kernel.accessAllowed ? 'block' : 'none';\n",
              "\n",
              "        async function convertToInteractive(key) {\n",
              "          const element = document.querySelector('#df-5072409f-f3d7-48bb-8e7e-ef894e3c6627');\n",
              "          const dataTable =\n",
              "            await google.colab.kernel.invokeFunction('convertToInteractive',\n",
              "                                                     [key], {});\n",
              "          if (!dataTable) return;\n",
              "\n",
              "          const docLinkHtml = 'Like what you see? Visit the ' +\n",
              "            '<a target=\"_blank\" href=https://colab.research.google.com/notebooks/data_table.ipynb>data table notebook</a>'\n",
              "            + ' to learn more about interactive tables.';\n",
              "          element.innerHTML = '';\n",
              "          dataTable['output_type'] = 'display_data';\n",
              "          await google.colab.output.renderOutput(dataTable, element);\n",
              "          const docLink = document.createElement('div');\n",
              "          docLink.innerHTML = docLinkHtml;\n",
              "          element.appendChild(docLink);\n",
              "        }\n",
              "      </script>\n",
              "    </div>\n",
              "  </div>\n",
              "  "
            ],
            "text/plain": [
              "                     objID          ra  ...  petroR90_i  new class\n",
              "0      1237658629695078502  186.387613  ...   33.239020          0\n",
              "1      1237661060647617165   49.402127  ...    1.336669          0\n",
              "2      1237671123767263327  150.322046  ...    1.430240          0\n",
              "3      1237651252060422933  259.905270  ...    6.142283          0\n",
              "4      1237654652572008582  146.815009  ...    6.437787          0\n",
              "...                    ...         ...  ...         ...        ...\n",
              "15087  1237668294982369408  166.097260  ...   16.220020          1\n",
              "15088  1237668625161453608  188.644747  ...   55.607660          1\n",
              "15089  1237674604291162452  215.627979  ...   15.467980          1\n",
              "15090  1237654606410220043  184.675718  ...   12.268810          1\n",
              "15091  1237664669508305068  153.137103  ...    4.565220          1\n",
              "\n",
              "[15092 rows x 15 columns]"
            ]
          },
          "metadata": {},
          "execution_count": 2
        }
      ]
    },
    {
      "cell_type": "markdown",
      "source": [
        "This dataset is obtained from the Sloan Digital Sky Survey database. http://cas.sdss.org/dr8/en/\n",
        "\n",
        "In order to let the readers have a better understanding of what we are doing, we will explain each variables briefly. \n",
        "1. objID: object ID\n",
        "2. ra: right ascension (coordinate on sky)\n",
        "3. dec: declination (coordinate on sky)\n",
        "4. lnLExp_r:  exponential disk fit in natural logarithm of likelihood function in r band \n",
        "5. lnLDev_r: de Vaucouleurs fit in natural logarithm of likelihood function in r band \n",
        "6. devMag_r: de Vaucouleurs magnitude fit \n",
        "(description of brightness profile of elliptical galaxy)\n",
        "7. expMag_r: exponential fit\n",
        "(description of brightness profile of disc galaxy)\n",
        "8. modelMag: better of deV/Exp magnitude fit\n",
        "9. cModelMag: composite model magnitude\n",
        "10. deVAB_i: de Vaucouleurs fit of axis ratio\n",
        "(morphological parameter of stellar objects)\n",
        "11. deVRad_i: de Vaucouleurs fit scale radius\n",
        "(morphological parameter of stellar objects)\n",
        "12. expRad_i: exponential fit scale radius\n",
        "(morphological parameter of stellar objects)\n",
        "13. petroR50: radius containing 50% of Petrosian flux\n",
        "(description of brightness of stellar object)\n",
        "14. petroR90: radius containing 90% of Petrosian flux\n",
        "(description of brightness of stellar object)\n",
        "15. new class: 0 = galaxy, 1 = star\n",
        "\n",
        "*Readers can refer to https://www.sdss.org/dr15/algorithms/magnitudes/ for further reading"
      ],
      "metadata": {
        "id": "nZApNOPM47hJ"
      }
    },
    {
      "cell_type": "code",
      "source": [
        "#Next we check if there is any null value in the dataset, remove any if needed.\n",
        "print(pd.isnull(df).sum())"
      ],
      "metadata": {
        "id": "2im7zedF43ZB",
        "colab": {
          "base_uri": "https://localhost:8080/"
        },
        "outputId": "461a770a-d4a4-4dbe-b697-2d9f58279c25"
      },
      "execution_count": null,
      "outputs": [
        {
          "output_type": "stream",
          "name": "stdout",
          "text": [
            "objID          0\n",
            "ra             0\n",
            "dec            0\n",
            "lnLExp_r       0\n",
            "lnLDev_r       0\n",
            "deVMag_r       0\n",
            "expMag_r       0\n",
            "modelMag_r     0\n",
            "cModelMag_r    0\n",
            "deVAB_r        0\n",
            "deVRad_i       0\n",
            "expRad_i       0\n",
            "petroR50_i     0\n",
            "petroR90_i     0\n",
            "new class      0\n",
            "dtype: int64\n"
          ]
        }
      ]
    },
    {
      "cell_type": "markdown",
      "source": [
        "No null value was found, so no further actions needed."
      ],
      "metadata": {
        "id": "JiU9HBV95ElK"
      }
    },
    {
      "cell_type": "code",
      "source": [
        "#Next we determine the variables to be used in the training set.\n",
        "X= df.drop(['objID', 'ra', 'dec', 'modelMag_r', 'cModelMag_r', 'new class'],axis = 1)\n",
        "Y= df[\"new class\"]"
      ],
      "metadata": {
        "id": "qolplE9a5EKw"
      },
      "execution_count": null,
      "outputs": []
    },
    {
      "cell_type": "markdown",
      "source": [
        "Finally, we determine which column to be discarded in order to reduce the number of variables in training so that better result could be obtained.\n",
        "\n",
        "Generally, we want:\n",
        "1. The variables that can truely reflect the characteristics of the stars or galaxies.\n",
        "2. Minimum number of variables to maximise the efficiency of the training and also to prevent the curse of dimensionality \n",
        "\n",
        "In this case, we decided to drop objID, ra, dec, modelMag_r, cModelMag_r, we will further discuss the reasons we chose to drop them.\n",
        "\n",
        "1. objID: It is the values that was assigned for the numbering of the stellar objects, it has nothing to do with the characteristics of the stars or galaxies.\n",
        "2. ra,dec: It is the values that reflects the coordinates of the stellar objects in sky. Since our Universe is assumed to be isotropy, there should not have bias location of a certain stellar objects (it should be completely random). \n",
        "3. modelMag and CModelMag: They are the best fit of the other two parameters. They are intercorrelated with the other variables hence they will be redundant. Dropping them can increase the efficiency of the code to run and increase the performance of algorithm with lesser dimension involved.\n",
        "\n",
        "Until this step, we have done the data cleaning step for this project. We will proceed to the phase which is the application of machine learning algorithm."
      ],
      "metadata": {
        "id": "3q1ZuJIZ5GgY"
      }
    },
    {
      "cell_type": "markdown",
      "source": [
        "# Supervised Learning Models"
      ],
      "metadata": {
        "id": "t7PasRa3Ao1C"
      }
    },
    {
      "cell_type": "code",
      "source": [
        "# Split train/test datasets\n",
        "\n",
        "from sklearn.model_selection import train_test_split\n",
        "\n",
        "train_X, test_X, train_Y, test_Y = train_test_split(X, Y, \n",
        "                                                    train_size=0.8,\n",
        "                                                    test_size=0.2,\n",
        "                                                    random_state=122)"
      ],
      "metadata": {
        "id": "zt8lWRJpZlzw"
      },
      "execution_count": null,
      "outputs": []
    },
    {
      "cell_type": "code",
      "source": [
        "# Import classification tools\n",
        "\n",
        "from sklearn.model_selection import GridSearchCV\n",
        "from sklearn.metrics import classification_report\n",
        "from sklearn.metrics import ConfusionMatrixDisplay\n",
        "from sklearn.metrics import f1_score\n",
        "from sklearn.metrics import accuracy_score\n",
        "\n",
        "import warnings\n",
        "from sklearn.exceptions import FitFailedWarning\n",
        "from sklearn.utils._testing import ignore_warnings\n",
        "from sklearn.exceptions import ConvergenceWarning\n",
        "warnings.simplefilter(action = 'ignore', category = FutureWarning) \n",
        "warnings.simplefilter(action = \"ignore\", category = ConvergenceWarning)\n",
        "warnings.simplefilter(action = \"ignore\", category = UserWarning)\n",
        "warnings.simplefilter(action = \"ignore\", category = FitFailedWarning)"
      ],
      "metadata": {
        "id": "-_S6ZVJ_kU_T"
      },
      "execution_count": null,
      "outputs": []
    },
    {
      "cell_type": "markdown",
      "source": [
        "**K-Nearest Neighbors (KNN)**\n",
        "\n",
        "KNN algorithm asuumes similarity between the new available data and put the new data into the category that is most similar to the available categories\n",
        "\n",
        "This algorithm select *k* number of neighbors and calculate the euclidean distance between them. Among these *k* neighbors, the distance to the data point in each category is counted and the category of the new data point is assigned based on the maximum number of neighbors.\n",
        "\n",
        "Advantages\n",
        "\n",
        "1. Simple to implement.\n",
        "2. Robust to noisy training data.\n",
        "\n",
        "Disadvantages\n",
        "\n",
        "1. Need to determine the appropriate value of *k*.\n",
        "2. Computation cost is high when calculating the distance between the data points for all the training sample."
      ],
      "metadata": {
        "id": "wB0tgbsPMqDE"
      }
    },
    {
      "cell_type": "code",
      "source": [
        "# Determine optimum N value\n",
        "\n",
        "import math\n",
        "\n",
        "print('Since the length of train_Y is {0}'.format(len(train_Y)))\n",
        "print('And the root is {0}'.format(math.sqrt(len(train_Y))))\n",
        "print('Hence, we choose n = {0}'.format(int(math.sqrt(len(train_Y)))))"
      ],
      "metadata": {
        "id": "pSj8X1RoMtUb",
        "colab": {
          "base_uri": "https://localhost:8080/"
        },
        "outputId": "007352d7-e95a-485c-c83d-baf2bc99795c"
      },
      "execution_count": null,
      "outputs": [
        {
          "output_type": "stream",
          "name": "stdout",
          "text": [
            "Since the length of train_Y is 12073\n",
            "And the root is 109.87720418721983\n",
            "Hence, we choose n = 109\n"
          ]
        }
      ]
    },
    {
      "cell_type": "code",
      "source": [
        "# Define the model\n",
        "\n",
        "from sklearn.neighbors import KNeighborsClassifier \n",
        "\n",
        "knn = KNeighborsClassifier(n_neighbors = int(math.sqrt(len(train_Y))), p = 2, metric= 'euclidean')\n",
        "knn.fit(train_X,train_Y)\n",
        "\n",
        "# Prediction, accuracy and F1 score\n",
        "\n",
        "Y_pred_knn = knn.predict(test_X)\n",
        "\n",
        "print('K-Nearest Neighbors')\n",
        "print('---------------------')\n",
        "print('Train accuracy = {:.3f}'.format(knn.score(train_X, train_Y)))\n",
        "print('Test accuracy  = {:.3f}'.format(accuracy_score(test_Y, Y_pred_knn)))\n",
        "print('F1 score       = {:.3f}'.format(f1_score(test_Y,Y_pred_knn)))\n",
        "\n",
        "# Classification report\n",
        "\n",
        "print('\\nClassification Report')\n",
        "print(classification_report(test_Y, Y_pred_knn))\n",
        "\n",
        "# Confusion matrix\n",
        "\n",
        "print('\\nConfusion Matrix')\n",
        "ConfusionMatrixDisplay.from_estimator(knn, test_X, test_Y, cmap = 'Purples')\n",
        "plt.show()"
      ],
      "metadata": {
        "id": "EqV0vV8vNsFa",
        "colab": {
          "base_uri": "https://localhost:8080/",
          "height": 591
        },
        "outputId": "7c849d6a-277a-4697-f1dd-11e72c75cec0"
      },
      "execution_count": null,
      "outputs": [
        {
          "output_type": "stream",
          "name": "stdout",
          "text": [
            "K-Nearest Neighbors\n",
            "---------------------\n",
            "Train accuracy = 0.824\n",
            "Test accuracy  = 0.820\n",
            "F1 score       = 0.829\n",
            "\n",
            "Classification Report\n",
            "              precision    recall  f1-score   support\n",
            "\n",
            "           0       0.82      0.80      0.81      1441\n",
            "           1       0.82      0.84      0.83      1578\n",
            "\n",
            "    accuracy                           0.82      3019\n",
            "   macro avg       0.82      0.82      0.82      3019\n",
            "weighted avg       0.82      0.82      0.82      3019\n",
            "\n",
            "\n",
            "Confusion Matrix\n"
          ]
        },
        {
          "output_type": "display_data",
          "data": {
            "image/png": "[encoded data removed]",
            "text/plain": [
              "<Figure size 432x288 with 2 Axes>"
            ]
          },
          "metadata": {
            "needs_background": "light"
          }
        }
      ]
    },
    {
      "cell_type": "markdown",
      "source": [
        "**Naive-Bayes Classifier**\n",
        "\n",
        "A classification technique based on Bayes theorem with an assumption of independance among predictors.(ie. assumes that the presence of a particular feature in aclass is unrelated to the presence of other feature).\n",
        "\n",
        "Advantages\n",
        "\n",
        "1. When assumption of independance hold,performs better than logistic regression and need less training data.\n",
        "2. Performs well in case of categorical input variables.\n",
        "\n",
        "Disadvantages\n",
        "\n",
        "1. In real life, sets of predictors which are completely independent are impossible."
      ],
      "metadata": {
        "id": "M7hbR26XSBJs"
      }
    },
    {
      "cell_type": "code",
      "source": [
        "# Fitting Naive Bayes to the training set\n",
        "\n",
        "from sklearn.naive_bayes import GaussianNB\n",
        "\n",
        "gnb = GaussianNB()\n",
        "gnb.fit(train_X,train_Y)\n",
        "\n",
        "# Predicting the test set results, accuracy and F1 score\n",
        "\n",
        "Y_pred_gnb = gnb.predict(test_X)\n",
        "\n",
        "print('Gaussian Naive-Bayes Classifier')\n",
        "print('---------------------------------')\n",
        "print('Train accuracy = {:.3f}'.format(gnb.score(train_X, train_Y)))\n",
        "print('Test accuracy  = {:.3f}'.format(accuracy_score(test_Y, Y_pred_gnb)))\n",
        "print('F1 score       = {:.3f}'.format(f1_score(test_Y,Y_pred_gnb)))\n",
        "\n",
        "# Classification report\n",
        "\n",
        "print('\\nClassification Report')\n",
        "print(classification_report(test_Y, Y_pred_gnb))\n",
        "\n",
        "# Making the confusion matrix\n",
        "\n",
        "print('\\nConfusion Matrix')\n",
        "ConfusionMatrixDisplay.from_estimator(gnb, test_X, test_Y, cmap = 'Purples')\n",
        "plt.show()"
      ],
      "metadata": {
        "id": "rXhJYO00SGck",
        "colab": {
          "base_uri": "https://localhost:8080/",
          "height": 591
        },
        "outputId": "4f477cb3-c6f1-4ffa-c1ad-c2520f859ad0"
      },
      "execution_count": null,
      "outputs": [
        {
          "output_type": "stream",
          "name": "stdout",
          "text": [
            "Gaussian Naive-Bayes Classifier\n",
            "---------------------------------\n",
            "Train accuracy = 0.931\n",
            "Test accuracy  = 0.930\n",
            "F1 score       = 0.931\n",
            "\n",
            "Classification Report\n",
            "              precision    recall  f1-score   support\n",
            "\n",
            "           0       0.90      0.95      0.93      1441\n",
            "           1       0.96      0.91      0.93      1578\n",
            "\n",
            "    accuracy                           0.93      3019\n",
            "   macro avg       0.93      0.93      0.93      3019\n",
            "weighted avg       0.93      0.93      0.93      3019\n",
            "\n",
            "\n",
            "Confusion Matrix\n"
          ]
        },
        {
          "output_type": "display_data",
          "data": {
            "image/png": "[encoded data removed]",
            "text/plain": [
              "<Figure size 432x288 with 2 Axes>"
            ]
          },
          "metadata": {
            "needs_background": "light"
          }
        }
      ]
    },
    {
      "cell_type": "markdown",
      "source": [
        "**Logistic Regression**\n",
        "\n",
        "A classification algorithm used to find the probability of event success and event failure. It is used when the dependent variable is binary (0/1, True/False, Yes/No) in nature. It supports categorizing data into discrete classes by studying relationship from a given set of data.\n",
        "\n",
        "Advantages\n",
        "\n",
        "1. Performs well when dataset is linearly separable very fast at classifying unknown records.\n",
        "\n",
        "Disadvantages \n",
        "\n",
        "1. Assumes linearity between dependent and independent variables can only be used to predict discrete functions.\n"
      ],
      "metadata": {
        "id": "sGZqmlTDUN30"
      }
    },
    {
      "cell_type": "code",
      "source": [
        "# Fitting logistic regression into training set\n",
        "\n",
        "from sklearn.linear_model import LogisticRegression\n",
        "\n",
        "logModel = LogisticRegression(max_iter = 1000)\n",
        "logModel.fit(train_X, train_Y)\n",
        "\n",
        "# Predicting test results, accuracy and F1 score\n",
        "\n",
        "Y_pred_logModel = logModel.predict(test_X)\n",
        "\n",
        "print('Logistic Regression')\n",
        "print('---------------------')\n",
        "print('Train accuracy = {:.3f}'.format(logModel.score(train_X, train_Y)))\n",
        "print('Test accuracy  = {:.3f}'.format(accuracy_score(test_Y, Y_pred_logModel)))\n",
        "print('F1 score       = {:.3f}'.format(f1_score(test_Y,Y_pred_logModel)))\n",
        "\n",
        "# Classification report\n",
        "\n",
        "print('\\nClassification Report')\n",
        "print(classification_report(test_Y, Y_pred_logModel))\n",
        "\n",
        "# Making the confusion matrix\n",
        "\n",
        "print('\\nConfusion Matrix')\n",
        "ConfusionMatrixDisplay.from_estimator(logModel, test_X, test_Y, cmap = 'Purples')\n",
        "plt.show()"
      ],
      "metadata": {
        "id": "P2CvKbCEUZle",
        "colab": {
          "base_uri": "https://localhost:8080/",
          "height": 591
        },
        "outputId": "84235f11-be9e-4e56-bd19-b71ae63ae338"
      },
      "execution_count": null,
      "outputs": [
        {
          "output_type": "stream",
          "name": "stdout",
          "text": [
            "Logistic Regression\n",
            "---------------------\n",
            "Train accuracy = 0.951\n",
            "Test accuracy  = 0.943\n",
            "F1 score       = 0.945\n",
            "\n",
            "Classification Report\n",
            "              precision    recall  f1-score   support\n",
            "\n",
            "           0       0.93      0.95      0.94      1441\n",
            "           1       0.95      0.94      0.94      1578\n",
            "\n",
            "    accuracy                           0.94      3019\n",
            "   macro avg       0.94      0.94      0.94      3019\n",
            "weighted avg       0.94      0.94      0.94      3019\n",
            "\n",
            "\n",
            "Confusion Matrix\n"
          ]
        },
        {
          "output_type": "display_data",
          "data": {
            "image/png": "[encoded data removed]",
            "text/plain": [
              "<Figure size 432x288 with 2 Axes>"
            ]
          },
          "metadata": {
            "needs_background": "light"
          }
        }
      ]
    },
    {
      "cell_type": "markdown",
      "source": [
        "**Support Vector Machine (SVM)**\n",
        "\n",
        "The SVM algorithm seeks to find a hyperplane in N-dimensions with maximum margin between data points, such that it can clearly classify the new data. The hyperplane itself can be a flat plane or warped around the data points.\n",
        "\n",
        "Advantages: \n",
        "1. Effective when dealing with a small amount of data sets against a large number of dimensions.\n",
        "2. Effective when data is well-defined and has little or no overlapping.\n",
        "\n",
        "Disadvantages:\n",
        "1. Requires data that do not overlap (clear distinction)."
      ],
      "metadata": {
        "id": "F5O0bN7WxTW4"
      }
    },
    {
      "cell_type": "code",
      "source": [
        "# Support vector classification (SVC)\n",
        "\n",
        "from sklearn.svm import SVC\n",
        "\n",
        "params = {'C' : range(1, 5), 'kernel' : ['rbf'], 'degree' : range(1, 5), 'gamma' : ['scale', 'auto']}\n",
        "\n",
        "grid_search = GridSearchCV(SVC(), params, n_jobs = -1)\n",
        "grid_search.fit(train_X, train_Y.ravel())\n",
        "print('Best parameters: \\n{0}'.format(grid_search.best_params_))\n",
        "\n",
        "svc = SVC(**grid_search.best_params_, random_state = 0)\n",
        "svc.fit(train_X, train_Y.ravel())\n",
        "\n",
        "# Predictions, accuracy and F1 score\n",
        "\n",
        "Y_pred_svc = svc.predict(test_X)\n",
        "\n",
        "print('\\nSupport Vector Machine')\n",
        "print('---------------------------')\n",
        "print('Train accuracy = {:.3f}'.format(svc.score(train_X, train_Y)))\n",
        "print('Test accuracy  = {:.3f}'.format(accuracy_score(test_Y, Y_pred_svc)))\n",
        "print('F1 score       = {:.3f}'.format(f1_score(test_Y,Y_pred_svc)))\n",
        "\n",
        "# Classification report\n",
        "\n",
        "print('\\nClassification Report')\n",
        "print(classification_report(test_Y, Y_pred_svc))\n",
        "\n",
        "# Confusion matrix\n",
        "\n",
        "print('\\nConfusion Matrix')\n",
        "ConfusionMatrixDisplay.from_estimator(svc, test_X, test_Y, cmap = 'Purples')\n",
        "plt.show()"
      ],
      "metadata": {
        "id": "ivefqTvN5FJ8",
        "colab": {
          "base_uri": "https://localhost:8080/",
          "height": 644
        },
        "outputId": "d548912b-8127-4d8b-cbaf-50c772aa1c39"
      },
      "execution_count": null,
      "outputs": [
        {
          "output_type": "stream",
          "name": "stdout",
          "text": [
            "Best parameters: \n",
            "{'C': 2, 'degree': 1, 'gamma': 'auto', 'kernel': 'rbf'}\n",
            "\n",
            "Support Vector Machine\n",
            "---------------------------\n",
            "Train accuracy = 0.999\n",
            "Test accuracy  = 0.768\n",
            "F1 score       = 0.719\n",
            "\n",
            "Classification Report\n",
            "              precision    recall  f1-score   support\n",
            "\n",
            "           0       0.68      0.99      0.80      1441\n",
            "           1       0.98      0.57      0.72      1578\n",
            "\n",
            "    accuracy                           0.77      3019\n",
            "   macro avg       0.83      0.78      0.76      3019\n",
            "weighted avg       0.84      0.77      0.76      3019\n",
            "\n",
            "\n",
            "Confusion Matrix\n"
          ]
        },
        {
          "output_type": "display_data",
          "data": {
            "image/png": "[encoded data removed]",
            "text/plain": [
              "<Figure size 432x288 with 2 Axes>"
            ]
          },
          "metadata": {
            "needs_background": "light"
          }
        }
      ]
    },
    {
      "cell_type": "markdown",
      "source": [
        "**Decision Tree**\n",
        "\n",
        "A machine learning tool that attempts to split the features into yes/no decisions, such that the final classes can be isolated.\n",
        "\n",
        "Advantages:\n",
        "1. Simple to understand and visualize.\n",
        "2. Does not require much data preprocessing.\n",
        "\n",
        "Disadvantages:\n",
        "1. Can create over-complex trees. (Over-fitting of data)\n",
        "2. Possible to produce biased results, if data is not balanced."
      ],
      "metadata": {
        "id": "Of11P1A0VouW"
      }
    },
    {
      "cell_type": "code",
      "source": [
        "from sklearn.tree import DecisionTreeClassifier\n",
        "\n",
        "params = {'max_depth': [None, 10, 20], \n",
        "          'max_features': [None, 5, 10],\n",
        "          'min_samples_leaf': [1, 3, 5],\n",
        "          'min_samples_split': [2, 6, 10]}\n",
        "\n",
        "grid_search = GridSearchCV(DecisionTreeClassifier(), params, n_jobs = -1)\n",
        "grid_search.fit(train_X, train_Y.ravel())\n",
        "print('Best parameters: \\n{0}'.format(grid_search.best_params_))\n",
        "\n",
        "dt = DecisionTreeClassifier(**grid_search.best_params_)\n",
        "dt.fit(train_X, train_Y.ravel())\n",
        "\n",
        "# Predictions, accuracy and F1 score\n",
        "\n",
        "Y_pred_dt = dt.predict(test_X)\n",
        "\n",
        "print('\\nDecision Tree')\n",
        "print('---------------')\n",
        "print('Train accuracy = {:.3f}'.format(dt.score(train_X, train_Y)))\n",
        "print('Test accuracy  = {:.3f}'.format(accuracy_score(test_Y, Y_pred_dt)))\n",
        "print('F1 score       = {:.3f}'.format(f1_score(test_Y,Y_pred_dt)))\n",
        "\n",
        "# Classification report\n",
        "\n",
        "print('\\nClassification Report')\n",
        "print(classification_report(test_Y, Y_pred_dt))\n",
        "\n",
        "# Confusion matrix \n",
        "\n",
        "print('\\nConfusion Matrix')\n",
        "ConfusionMatrixDisplay.from_estimator(dt, test_X, test_Y, cmap = 'Purples')\n",
        "plt.show()"
      ],
      "metadata": {
        "id": "2zrqY4kYAxsH",
        "colab": {
          "base_uri": "https://localhost:8080/",
          "height": 644
        },
        "outputId": "89de4018-7579-44e1-96ec-3e1780f9b1c8"
      },
      "execution_count": null,
      "outputs": [
        {
          "output_type": "stream",
          "name": "stdout",
          "text": [
            "Best parameters: \n",
            "{'max_depth': 10, 'max_features': 5, 'min_samples_leaf': 5, 'min_samples_split': 10}\n",
            "\n",
            "Decision Tree\n",
            "---------------\n",
            "Train accuracy = 0.978\n",
            "Test accuracy  = 0.961\n",
            "F1 score       = 0.963\n",
            "\n",
            "Classification Report\n",
            "              precision    recall  f1-score   support\n",
            "\n",
            "           0       0.95      0.97      0.96      1441\n",
            "           1       0.97      0.95      0.96      1578\n",
            "\n",
            "    accuracy                           0.96      3019\n",
            "   macro avg       0.96      0.96      0.96      3019\n",
            "weighted avg       0.96      0.96      0.96      3019\n",
            "\n",
            "\n",
            "Confusion Matrix\n"
          ]
        },
        {
          "output_type": "display_data",
          "data": {
            "image/png": "[encoded data removed]",
            "text/plain": [
              "<Figure size 432x288 with 2 Axes>"
            ]
          },
          "metadata": {
            "needs_background": "light"
          }
        }
      ]
    },
    {
      "cell_type": "markdown",
      "source": [
        "**Random Forest**\n",
        "\n",
        "In general, the random forest classifier uses the same logic as a decision tree across several sub-samples of the dataset and averages the results obtained to improve prediction accuracy and control over-fitting.\n",
        "\n",
        "Advantages:\n",
        "1. Able to handle missing data by substitution of a variable appearing the most in a particular node.\n",
        "2. Can process large amounts of data at a faster rate."
      ],
      "metadata": {
        "id": "tnR1V8LMZUoW"
      }
    },
    {
      "cell_type": "code",
      "source": [
        "# Random Forest\n",
        "\n",
        "from sklearn.ensemble import RandomForestClassifier\n",
        "\n",
        "params = {'max_depth': [None, 10], \n",
        "          'max_features': [None, 10],\n",
        "          'min_samples_leaf': [1, 5],\n",
        "          'min_samples_split': [2, 10],\n",
        "          'n_estimators': [1000]}\n",
        "\n",
        "grid_search = GridSearchCV(RandomForestClassifier(), params, n_jobs = -1)\n",
        "grid_search.fit(train_X, train_Y.ravel())\n",
        "print('Best parameters: \\n{0}'.format(grid_search.best_params_))\n",
        "\n",
        "rf = RandomForestClassifier(**grid_search.best_params_, n_jobs = -1)\n",
        "rf.fit(train_X, train_Y.ravel())\n",
        "\n",
        "# Predictions, accuracy, F1 score\n",
        "\n",
        "Y_pred_rf = rf.predict(test_X)\n",
        "\n",
        "print('\\nRandom Forest')\n",
        "print('---------------')\n",
        "print('Train accuracy = {:.3f}'.format(rf.score(train_X, train_Y)))\n",
        "print('Test accuracy  = {:.3f}'.format(accuracy_score(test_Y, Y_pred_rf)))\n",
        "print('F1 score       = {:.3f}'.format(f1_score(test_Y,Y_pred_rf)))\n",
        "\n",
        "# Classification report\n",
        "\n",
        "print('\\nClassification Report')\n",
        "print(classification_report(test_Y, Y_pred_rf))\n",
        "\n",
        "# Confusion matrix\n",
        "\n",
        "print('\\nConfusion Matrix')\n",
        "ConfusionMatrixDisplay.from_estimator(rf, test_X, test_Y, cmap = 'Purples')\n",
        "plt.show()"
      ],
      "metadata": {
        "id": "DZF7zBOn1hp4",
        "colab": {
          "base_uri": "https://localhost:8080/",
          "height": 644
        },
        "outputId": "6b90fd2f-2439-4e76-8fac-beee17f497c8"
      },
      "execution_count": null,
      "outputs": [
        {
          "output_type": "stream",
          "name": "stdout",
          "text": [
            "Best parameters: \n",
            "{'max_depth': None, 'max_features': None, 'min_samples_leaf': 1, 'min_samples_split': 10, 'n_estimators': 1000}\n",
            "\n",
            "Random Forest\n",
            "---------------\n",
            "Train accuracy = 0.993\n",
            "Test accuracy  = 0.972\n",
            "F1 score       = 0.973\n",
            "\n",
            "Classification Report\n",
            "              precision    recall  f1-score   support\n",
            "\n",
            "           0       0.96      0.98      0.97      1441\n",
            "           1       0.98      0.97      0.97      1578\n",
            "\n",
            "    accuracy                           0.97      3019\n",
            "   macro avg       0.97      0.97      0.97      3019\n",
            "weighted avg       0.97      0.97      0.97      3019\n",
            "\n",
            "\n",
            "Confusion Matrix\n"
          ]
        },
        {
          "output_type": "display_data",
          "data": {
            "image/png": "[encoded data removed]",
            "text/plain": [
              "<Figure size 432x288 with 2 Axes>"
            ]
          },
          "metadata": {
            "needs_background": "light"
          }
        }
      ]
    },
    {
      "cell_type": "markdown",
      "source": [
        "**Multi-Layered Perceptron Classifier**\n",
        "\n",
        "A type of artificial neural network (ANN) that comprises of at least three layers of nodes (input, hidden and output layer).\n",
        "\n",
        "Advantages:\n",
        "1. Can work with both single and multiple target values regression.\n",
        "\n",
        "Disadvantages:\n",
        "1. Unable to fine-tune parameters for each layer."
      ],
      "metadata": {
        "id": "I9QlrxgTYwiX"
      }
    },
    {
      "cell_type": "code",
      "source": [
        "# Multi-Layered perceptron classifier\n",
        "\n",
        "from sklearn.neural_network import MLPClassifier\n",
        "\n",
        "params = {'activation': ['identity', 'logistic', 'tanh', 'relu'], \n",
        "          'learning_rate': ['constant', 'invscaling', 'adaptive']}\n",
        "\n",
        "grid_search = GridSearchCV(MLPClassifier(), params, n_jobs = -1)\n",
        "grid_search.fit(train_X, train_Y.ravel())\n",
        "print('Best parameters: \\n{0}'.format(grid_search.best_params_))\n",
        "\n",
        "mlp = MLPClassifier(**grid_search.best_params_)\n",
        "mlp.fit(train_X, train_Y.ravel())\n",
        "\n",
        "# Prediction, accuracy, f1 score\n",
        "\n",
        "Y_pred_mlp = mlp.predict(test_X)\n",
        "\n",
        "print('\\nMLP Classifier')\n",
        "print('----------------')\n",
        "print('Train accuracy = {:.3f}'.format(mlp.score(train_X, train_Y)))\n",
        "print('Test accuracy  = {:.3f}'.format(accuracy_score(test_Y, Y_pred_mlp)))\n",
        "print('F1 score       = {:.3f}'.format(f1_score(test_Y,Y_pred_mlp)))\n",
        "\n",
        "# Classification report\n",
        "\n",
        "print('\\nClassification Report')\n",
        "print(classification_report(test_Y, Y_pred_mlp))\n",
        "\n",
        "# Confusion matrix\n",
        "\n",
        "print('\\nConfusion Matrix')\n",
        "ConfusionMatrixDisplay.from_estimator(mlp, test_X, test_Y, cmap = 'Purples')\n",
        "plt.show()"
      ],
      "metadata": {
        "colab": {
          "base_uri": "https://localhost:8080/",
          "height": 644
        },
        "id": "WxyuBfnpYzlZ",
        "outputId": "a42723d9-85ae-4099-dafc-3931c1f4c86a"
      },
      "execution_count": null,
      "outputs": [
        {
          "output_type": "stream",
          "name": "stdout",
          "text": [
            "Best parameters: \n",
            "{'activation': 'logistic', 'learning_rate': 'adaptive'}\n",
            "\n",
            "MLP Classifier\n",
            "----------------\n",
            "Train accuracy = 0.961\n",
            "Test accuracy  = 0.957\n",
            "F1 score       = 0.958\n",
            "\n",
            "Classification Report\n",
            "              precision    recall  f1-score   support\n",
            "\n",
            "           0       0.93      0.98      0.96      1441\n",
            "           1       0.98      0.94      0.96      1578\n",
            "\n",
            "    accuracy                           0.96      3019\n",
            "   macro avg       0.96      0.96      0.96      3019\n",
            "weighted avg       0.96      0.96      0.96      3019\n",
            "\n",
            "\n",
            "Confusion Matrix\n"
          ]
        },
        {
          "output_type": "display_data",
          "data": {
            "image/png": "[encoded data removed]",
            "text/plain": [
              "<Figure size 432x288 with 2 Axes>"
            ]
          },
          "metadata": {
            "needs_background": "light"
          }
        }
      ]
    },
    {
      "cell_type": "markdown",
      "source": [
        "Comparison of Models (Accuracy)"
      ],
      "metadata": {
        "id": "9FQ7OIv-1s1K"
      }
    },
    {
      "cell_type": "markdown",
      "source": [
        "Accuracy is a measure of metric from the confusion matrix that tells us the **ratio of correctly predicted (TP + TN) data from the entire dataset**.\n",
        "\n",
        "> $Accuracy = \\frac{TP + TN}{TP + TN + FP + FN}$"
      ],
      "metadata": {
        "id": "FbuLiw3TjMDy"
      }
    },
    {
      "cell_type": "code",
      "source": [
        "# Accuracy\n",
        "\n",
        "df_accuracy = pd.DataFrame({'Models': ['K-Nearest Neighbors', \n",
        "                                       'Gaussian Naive Bayes', \n",
        "                                       'Logistic Regression', \n",
        "                                       'Support Vector Machine', \n",
        "                                       'Decision Tree', \n",
        "                                       'Random Forest', \n",
        "                                       'MLP Classifier'],\n",
        "                            'Accuracy': [accuracy_score(test_Y, Y_pred_knn), \n",
        "                                         accuracy_score(test_Y, Y_pred_gnb),\n",
        "                                         accuracy_score(test_Y, Y_pred_logModel),\n",
        "                                         accuracy_score(test_Y, Y_pred_svc),\n",
        "                                         accuracy_score(test_Y, Y_pred_dt),\n",
        "                                         accuracy_score(test_Y, Y_pred_rf),\n",
        "                                         accuracy_score(test_Y, Y_pred_mlp)]})\n",
        "\n",
        "df_accuracy.sort_values(by = 'Accuracy', ascending = False, inplace = True)\n",
        "df_accuracy"
      ],
      "metadata": {
        "id": "Y4p_XhF21tm_"
      },
      "execution_count": null,
      "outputs": []
    },
    {
      "cell_type": "markdown",
      "source": [
        "Comparison of Models (F1 Score)"
      ],
      "metadata": {
        "id": "WwAtWOsl1vJP"
      }
    },
    {
      "cell_type": "markdown",
      "source": [
        "F1 score is another metric which tells us the **balance between the precision and recall**.\n",
        "> $F1 Score  = 2\\frac{Precision*Recall}{Precision + Recall}$\n",
        "\n",
        "The precision tells us how many positive tests (TP) were correctly predicted amongst all the positively predicted cases (TP + FP).\n",
        "> $Precision = \\frac{TP}{TP + FP}$\n",
        "\n",
        "And the recall tells us how many positive tests (TP) were correctly predicted amongst all positive real cases (TP + FN).\n",
        "> $Recall    = \\frac{TP}{TP + FN}$"
      ],
      "metadata": {
        "id": "sW3yIcK4ksJp"
      }
    },
    {
      "cell_type": "code",
      "source": [
        "# F1 Score\n",
        "\n",
        "df_f1score = pd.DataFrame({'Models': ['K-Nearest Neighbors', \n",
        "                                       'Gaussian Naive Bayes', \n",
        "                                       'Logistic Regression', \n",
        "                                       'Support Vector Machine', \n",
        "                                       'Decision Tree', \n",
        "                                       'Random Forest', \n",
        "                                       'MLP Classifier'],\n",
        "                            'F1 Score': [f1_score(test_Y, Y_pred_knn), \n",
        "                                         f1_score(test_Y, Y_pred_gnb),\n",
        "                                         f1_score(test_Y, Y_pred_logModel),\n",
        "                                         f1_score(test_Y, Y_pred_svc),\n",
        "                                         f1_score(test_Y, Y_pred_dt),\n",
        "                                         f1_score(test_Y, Y_pred_rf),\n",
        "                                         f1_score(test_Y, Y_pred_mlp)]})\n",
        "\n",
        "df_f1score.sort_values(by = 'F1 Score', ascending = False, inplace = True)\n",
        "df_f1score"
      ],
      "metadata": {
        "id": "Ginz0chf1xU_",
        "colab": {
          "base_uri": "https://localhost:8080/",
          "height": 269
        },
        "outputId": "c3413ea8-d305-45f3-8d9f-543359a72c6b"
      },
      "execution_count": null,
      "outputs": [
        {
          "output_type": "execute_result",
          "data": {
            "text/html": [
              "\n",
              "  <div id=\"df-ac1552d8-16cd-449d-a6f9-a77b271cd84f\">\n",
              "    <div class=\"colab-df-container\">\n",
              "      <div>\n",
              "<style scoped>\n",
              "    .dataframe tbody tr th:only-of-type {\n",
              "        vertical-align: middle;\n",
              "    }\n",
              "\n",
              "    .dataframe tbody tr th {\n",
              "        vertical-align: top;\n",
              "    }\n",
              "\n",
              "    .dataframe thead th {\n",
              "        text-align: right;\n",
              "    }\n",
              "</style>\n",
              "<table border=\"1\" class=\"dataframe\">\n",
              "  <thead>\n",
              "    <tr style=\"text-align: right;\">\n",
              "      <th></th>\n",
              "      <th>Models</th>\n",
              "      <th>F1 Score</th>\n",
              "    </tr>\n",
              "  </thead>\n",
              "  <tbody>\n",
              "    <tr>\n",
              "      <th>5</th>\n",
              "      <td>Random Forest</td>\n",
              "      <td>0.972611</td>\n",
              "    </tr>\n",
              "    <tr>\n",
              "      <th>4</th>\n",
              "      <td>Decision Tree</td>\n",
              "      <td>0.962608</td>\n",
              "    </tr>\n",
              "    <tr>\n",
              "      <th>6</th>\n",
              "      <td>MLP Classifier</td>\n",
              "      <td>0.957929</td>\n",
              "    </tr>\n",
              "    <tr>\n",
              "      <th>2</th>\n",
              "      <td>Logistic Regression</td>\n",
              "      <td>0.944781</td>\n",
              "    </tr>\n",
              "    <tr>\n",
              "      <th>1</th>\n",
              "      <td>Gaussian Naive Bayes</td>\n",
              "      <td>0.931034</td>\n",
              "    </tr>\n",
              "    <tr>\n",
              "      <th>0</th>\n",
              "      <td>K-Nearest Neighbors</td>\n",
              "      <td>0.829253</td>\n",
              "    </tr>\n",
              "    <tr>\n",
              "      <th>3</th>\n",
              "      <td>Support Vector Machine</td>\n",
              "      <td>0.718650</td>\n",
              "    </tr>\n",
              "  </tbody>\n",
              "</table>\n",
              "</div>\n",
              "      <button class=\"colab-df-convert\" onclick=\"convertToInteractive('df-ac1552d8-16cd-449d-a6f9-a77b271cd84f')\"\n",
              "              title=\"Convert this dataframe to an interactive table.\"\n",
              "              style=\"display:none;\">\n",
              "        \n",
              "  <svg xmlns=\"http://www.w3.org/2000/svg\" height=\"24px\"viewBox=\"0 0 24 24\"\n",
              "       width=\"24px\">\n",
              "    <path d=\"M0 0h24v24H0V0z\" fill=\"none\"/>\n",
              "    <path d=\"M18.56 5.44l.94 2.06.94-2.06 2.06-.94-2.06-.94-.94-2.06-.94 2.06-2.06.94zm-11 1L8.5 8.5l.94-2.06 2.06-.94-2.06-.94L8.5 2.5l-.94 2.06-2.06.94zm10 10l.94 2.06.94-2.06 2.06-.94-2.06-.94-.94-2.06-.94 2.06-2.06.94z\"/><path d=\"M17.41 7.96l-1.37-1.37c-.4-.4-.92-.59-1.43-.59-.52 0-1.04.2-1.43.59L10.3 9.45l-7.72 7.72c-.78.78-.78 2.05 0 2.83L4 21.41c.39.39.9.59 1.41.59.51 0 1.02-.2 1.41-.59l7.78-7.78 2.81-2.81c.8-.78.8-2.07 0-2.86zM5.41 20L4 18.59l7.72-7.72 1.47 1.35L5.41 20z\"/>\n",
              "  </svg>\n",
              "      </button>\n",
              "      \n",
              "  <style>\n",
              "    .colab-df-container {\n",
              "      display:flex;\n",
              "      flex-wrap:wrap;\n",
              "      gap: 12px;\n",
              "    }\n",
              "\n",
              "    .colab-df-convert {\n",
              "      background-color: #E8F0FE;\n",
              "      border: none;\n",
              "      border-radius: 50%;\n",
              "      cursor: pointer;\n",
              "      display: none;\n",
              "      fill: #1967D2;\n",
              "      height: 32px;\n",
              "      padding: 0 0 0 0;\n",
              "      width: 32px;\n",
              "    }\n",
              "\n",
              "    .colab-df-convert:hover {\n",
              "      background-color: #E2EBFA;\n",
              "      box-shadow: 0px 1px 2px rgba(60, 64, 67, 0.3), 0px 1px 3px 1px rgba(60, 64, 67, 0.15);\n",
              "      fill: #174EA6;\n",
              "    }\n",
              "\n",
              "    [theme=dark] .colab-df-convert {\n",
              "      background-color: #3B4455;\n",
              "      fill: #D2E3FC;\n",
              "    }\n",
              "\n",
              "    [theme=dark] .colab-df-convert:hover {\n",
              "      background-color: #434B5C;\n",
              "      box-shadow: 0px 1px 3px 1px rgba(0, 0, 0, 0.15);\n",
              "      filter: drop-shadow(0px 1px 2px rgba(0, 0, 0, 0.3));\n",
              "      fill: #FFFFFF;\n",
              "    }\n",
              "  </style>\n",
              "\n",
              "      <script>\n",
              "        const buttonEl =\n",
              "          document.querySelector('#df-ac1552d8-16cd-449d-a6f9-a77b271cd84f button.colab-df-convert');\n",
              "        buttonEl.style.display =\n",
              "          google.colab.kernel.accessAllowed ? 'block' : 'none';\n",
              "\n",
              "        async function convertToInteractive(key) {\n",
              "          const element = document.querySelector('#df-ac1552d8-16cd-449d-a6f9-a77b271cd84f');\n",
              "          const dataTable =\n",
              "            await google.colab.kernel.invokeFunction('convertToInteractive',\n",
              "                                                     [key], {});\n",
              "          if (!dataTable) return;\n",
              "\n",
              "          const docLinkHtml = 'Like what you see? Visit the ' +\n",
              "            '<a target=\"_blank\" href=https://colab.research.google.com/notebooks/data_table.ipynb>data table notebook</a>'\n",
              "            + ' to learn more about interactive tables.';\n",
              "          element.innerHTML = '';\n",
              "          dataTable['output_type'] = 'display_data';\n",
              "          await google.colab.output.renderOutput(dataTable, element);\n",
              "          const docLink = document.createElement('div');\n",
              "          docLink.innerHTML = docLinkHtml;\n",
              "          element.appendChild(docLink);\n",
              "        }\n",
              "      </script>\n",
              "    </div>\n",
              "  </div>\n",
              "  "
            ],
            "text/plain": [
              "                   Models  F1 Score\n",
              "5           Random Forest  0.972611\n",
              "4           Decision Tree  0.962608\n",
              "6          MLP Classifier  0.957929\n",
              "2     Logistic Regression  0.944781\n",
              "1    Gaussian Naive Bayes  0.931034\n",
              "0     K-Nearest Neighbors  0.829253\n",
              "3  Support Vector Machine  0.718650"
            ]
          },
          "metadata": {},
          "execution_count": 16
        }
      ]
    },
    {
      "cell_type": "markdown",
      "source": [
        "# Discussion"
      ],
      "metadata": {
        "id": "vCXMf7syAvd4"
      }
    },
    {
      "cell_type": "markdown",
      "source": [
        "**Comments on Model**\n",
        "\n",
        "Looking at the accuracy and F1 score, the random forest classifier (RF) scores the highest on both metrics (Accuracy = 0.972, F1 Score = 0.973), however the support vector classifier (SVC) scores the lowest at 0.768 and 0.719 respectively. One of the reasons is due to the overlapping or close relation of data points, SVC is unable to clearly separate the large amounts of data. RF is able to perform well with large amounts of data despite the much longer training time.\n",
        "\n",
        "Now, to compare between the top three models; random forest (RF), decision tree (DT) and MLP classifier (MLP), we shall look at a few aspects. In the case where **time factor** is important, DT and MLP are preferable, because RF requires a relatively longer training time due to the repetitive and averaging of DT results. When considering the **datasets**, RF and DT do not require much data preprocessing as compared to MLP that may need scaling for better results. MLP also is a more result-based deep learning tool, it will translate the data into a numerical form and combine with a bunch of weights and bias, until a point that the features may become meaningless.   \n",
        "However, it is undeniable that **RF produced the best results** among all our models. \n",
        "\n",
        "**Limitations**\n",
        "\n",
        "The limitations for this project are mainly affected from our own dataset. In truth, stars can be further classified by stellar types and luminosity (OBAFGKM) while galaxies can be further split into spiral, elliptical and irregulars. Because we did not specify the type of stars and galaxies, some of the data may become overlapped and cause statistical fluctuation that affect the final prediction.  \n",
        "\n",
        "**Impact**\n",
        "\n",
        "Lets say an average researcher would require 5 minutes to determine the identity of a single stellar object, while the machine learning only requires 1 minutes to predict (with ~97% accuracy) 15,000 stellar objects. \n",
        "\n",
        "The efficiency of the classifier is then calculated:\n",
        "\n",
        "Efficiency (mins) = (15000 objects/1 min)/(1 objects/5 min) × 100% = 7 500 000%\n",
        "\n",
        "The classifier is 75,000 times more efficient than conventional human research and achieving an accuracy rate as high as 97%.\n"
      ],
      "metadata": {
        "id": "pu5K-bWu6jGh"
      }
    },
    {
      "cell_type": "markdown",
      "source": [
        "# Deployment"
      ],
      "metadata": {
        "id": "IKawQ7bA-F8p"
      }
    },
    {
      "cell_type": "markdown",
      "source": [
        "The deployment can be split into three main steps:\n",
        "1. Upload file containing dataset for prediction in .csv format.\n",
        "2. Mount google drive.\n",
        "3. Write into an existing excel file in the google drive."
      ],
      "metadata": {
        "id": "9mhvuP-6FT64"
      }
    },
    {
      "cell_type": "code",
      "source": [
        "# Deployment of Model\n",
        "\n",
        "# Upload file of interest and type in file name to read\n",
        "uploaded = files.upload()\n",
        "file_name = input('Uploaded File Name (.csv): ')\n",
        "\n",
        "df_pred = pd.read_csv(file_name + '.csv')\n",
        "X_pred = df_pred.drop(['objID', 'ra', 'dec', 'modelMag_r', 'cModelMag_r', 'new class'], axis = 1)\n",
        "Y_pred = pd.DataFrame(rf.predict(X_pred), columns = ['new class'])              \n",
        "# pd.DataFrame(xx.predict(X_pred), columns = ['new class']), where xx is the best model\n",
        "\n",
        "# Print out results\n",
        "results_pred = pd.concat([X_pred, Y_pred], axis = 1)\n",
        "results_pred"
      ],
      "metadata": {
        "id": "m3e83r-UJeY3",
        "colab": {
          "resources": {
            "http://localhost:8080/nbextensions/google.colab/files.js": {
              "data": "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",
              "ok": true,
              "headers": [
                [
                  "content-type",
                  "application/javascript"
                ]
              ],
              "status": 200,
              "status_text": ""
            }
          },
          "base_uri": "https://localhost:8080/",
          "height": 311
        },
        "outputId": "e24eece8-9f60-417c-cefe-11002ac566e6"
      },
      "execution_count": null,
      "outputs": [
        {
          "output_type": "display_data",
          "data": {
            "text/html": [
              "\n",
              "     <input type=\"file\" id=\"files-482c889a-0b0a-4643-a20f-ed26099c4e26\" name=\"files[]\" multiple disabled\n",
              "        style=\"border:none\" />\n",
              "     <output id=\"result-482c889a-0b0a-4643-a20f-ed26099c4e26\">\n",
              "      Upload widget is only available when the cell has been executed in the\n",
              "      current browser session. Please rerun this cell to enable.\n",
              "      </output>\n",
              "      <script src=\"/nbextensions/google.colab/files.js\"></script> "
            ],
            "text/plain": [
              "<IPython.core.display.HTML object>"
            ]
          },
          "metadata": {}
        },
        {
          "name": "stdout",
          "output_type": "stream",
          "text": [
            "Saving star_galaxy (predict).csv to star_galaxy (predict).csv\n",
            "Uploaded File Name (.csv): star_galaxy (predict)\n"
          ]
        },
        {
          "output_type": "execute_result",
          "data": {
            "text/html": [
              "\n",
              "  <div id=\"df-d1be5fe2-ccbb-4d63-955b-c055d1a02256\">\n",
              "    <div class=\"colab-df-container\">\n",
              "      <div>\n",
              "<style scoped>\n",
              "    .dataframe tbody tr th:only-of-type {\n",
              "        vertical-align: middle;\n",
              "    }\n",
              "\n",
              "    .dataframe tbody tr th {\n",
              "        vertical-align: top;\n",
              "    }\n",
              "\n",
              "    .dataframe thead th {\n",
              "        text-align: right;\n",
              "    }\n",
              "</style>\n",
              "<table border=\"1\" class=\"dataframe\">\n",
              "  <thead>\n",
              "    <tr style=\"text-align: right;\">\n",
              "      <th></th>\n",
              "      <th>lnLExp_r</th>\n",
              "      <th>lnLDev_r</th>\n",
              "      <th>deVMag_r</th>\n",
              "      <th>expMag_r</th>\n",
              "      <th>deVAB_r</th>\n",
              "      <th>deVRad_i</th>\n",
              "      <th>expRad_i</th>\n",
              "      <th>petroR50_i</th>\n",
              "      <th>petroR90_i</th>\n",
              "      <th>new class</th>\n",
              "    </tr>\n",
              "  </thead>\n",
              "  <tbody>\n",
              "    <tr>\n",
              "      <th>0</th>\n",
              "      <td>-3161.775000</td>\n",
              "      <td>-12036.470000</td>\n",
              "      <td>14.45502</td>\n",
              "      <td>14.09242</td>\n",
              "      <td>0.474484</td>\n",
              "      <td>29.668200</td>\n",
              "      <td>30.699290</td>\n",
              "      <td>15.296520</td>\n",
              "      <td>30.0</td>\n",
              "      <td>0</td>\n",
              "    </tr>\n",
              "    <tr>\n",
              "      <th>1</th>\n",
              "      <td>-41.851900</td>\n",
              "      <td>-30.718090</td>\n",
              "      <td>18.53920</td>\n",
              "      <td>18.55011</td>\n",
              "      <td>0.050000</td>\n",
              "      <td>0.358142</td>\n",
              "      <td>0.456169</td>\n",
              "      <td>0.585767</td>\n",
              "      <td>1.0</td>\n",
              "      <td>1</td>\n",
              "    </tr>\n",
              "    <tr>\n",
              "      <th>2</th>\n",
              "      <td>-1204.695000</td>\n",
              "      <td>-1203.993000</td>\n",
              "      <td>14.18365</td>\n",
              "      <td>14.18373</td>\n",
              "      <td>0.399961</td>\n",
              "      <td>0.039652</td>\n",
              "      <td>0.046137</td>\n",
              "      <td>0.625252</td>\n",
              "      <td>1.5</td>\n",
              "      <td>1</td>\n",
              "    </tr>\n",
              "    <tr>\n",
              "      <th>3</th>\n",
              "      <td>-18.989380</td>\n",
              "      <td>-113.006700</td>\n",
              "      <td>17.08236</td>\n",
              "      <td>17.08866</td>\n",
              "      <td>0.206261</td>\n",
              "      <td>0.574878</td>\n",
              "      <td>0.765919</td>\n",
              "      <td>1.079663</td>\n",
              "      <td>2.5</td>\n",
              "      <td>1</td>\n",
              "    </tr>\n",
              "    <tr>\n",
              "      <th>4</th>\n",
              "      <td>-55.213150</td>\n",
              "      <td>-20.601030</td>\n",
              "      <td>17.58136</td>\n",
              "      <td>17.59843</td>\n",
              "      <td>0.301707</td>\n",
              "      <td>0.256460</td>\n",
              "      <td>0.341032</td>\n",
              "      <td>0.815925</td>\n",
              "      <td>2.0</td>\n",
              "      <td>1</td>\n",
              "    </tr>\n",
              "    <tr>\n",
              "      <th>5</th>\n",
              "      <td>-0.057372</td>\n",
              "      <td>-0.068952</td>\n",
              "      <td>19.74987</td>\n",
              "      <td>19.75094</td>\n",
              "      <td>0.474400</td>\n",
              "      <td>0.000000</td>\n",
              "      <td>0.002814</td>\n",
              "      <td>0.459221</td>\n",
              "      <td>1.0</td>\n",
              "      <td>1</td>\n",
              "    </tr>\n",
              "  </tbody>\n",
              "</table>\n",
              "</div>\n",
              "      <button class=\"colab-df-convert\" onclick=\"convertToInteractive('df-d1be5fe2-ccbb-4d63-955b-c055d1a02256')\"\n",
              "              title=\"Convert this dataframe to an interactive table.\"\n",
              "              style=\"display:none;\">\n",
              "        \n",
              "  <svg xmlns=\"http://www.w3.org/2000/svg\" height=\"24px\"viewBox=\"0 0 24 24\"\n",
              "       width=\"24px\">\n",
              "    <path d=\"M0 0h24v24H0V0z\" fill=\"none\"/>\n",
              "    <path d=\"M18.56 5.44l.94 2.06.94-2.06 2.06-.94-2.06-.94-.94-2.06-.94 2.06-2.06.94zm-11 1L8.5 8.5l.94-2.06 2.06-.94-2.06-.94L8.5 2.5l-.94 2.06-2.06.94zm10 10l.94 2.06.94-2.06 2.06-.94-2.06-.94-.94-2.06-.94 2.06-2.06.94z\"/><path d=\"M17.41 7.96l-1.37-1.37c-.4-.4-.92-.59-1.43-.59-.52 0-1.04.2-1.43.59L10.3 9.45l-7.72 7.72c-.78.78-.78 2.05 0 2.83L4 21.41c.39.39.9.59 1.41.59.51 0 1.02-.2 1.41-.59l7.78-7.78 2.81-2.81c.8-.78.8-2.07 0-2.86zM5.41 20L4 18.59l7.72-7.72 1.47 1.35L5.41 20z\"/>\n",
              "  </svg>\n",
              "      </button>\n",
              "      \n",
              "  <style>\n",
              "    .colab-df-container {\n",
              "      display:flex;\n",
              "      flex-wrap:wrap;\n",
              "      gap: 12px;\n",
              "    }\n",
              "\n",
              "    .colab-df-convert {\n",
              "      background-color: #E8F0FE;\n",
              "      border: none;\n",
              "      border-radius: 50%;\n",
              "      cursor: pointer;\n",
              "      display: none;\n",
              "      fill: #1967D2;\n",
              "      height: 32px;\n",
              "      padding: 0 0 0 0;\n",
              "      width: 32px;\n",
              "    }\n",
              "\n",
              "    .colab-df-convert:hover {\n",
              "      background-color: #E2EBFA;\n",
              "      box-shadow: 0px 1px 2px rgba(60, 64, 67, 0.3), 0px 1px 3px 1px rgba(60, 64, 67, 0.15);\n",
              "      fill: #174EA6;\n",
              "    }\n",
              "\n",
              "    [theme=dark] .colab-df-convert {\n",
              "      background-color: #3B4455;\n",
              "      fill: #D2E3FC;\n",
              "    }\n",
              "\n",
              "    [theme=dark] .colab-df-convert:hover {\n",
              "      background-color: #434B5C;\n",
              "      box-shadow: 0px 1px 3px 1px rgba(0, 0, 0, 0.15);\n",
              "      filter: drop-shadow(0px 1px 2px rgba(0, 0, 0, 0.3));\n",
              "      fill: #FFFFFF;\n",
              "    }\n",
              "  </style>\n",
              "\n",
              "      <script>\n",
              "        const buttonEl =\n",
              "          document.querySelector('#df-d1be5fe2-ccbb-4d63-955b-c055d1a02256 button.colab-df-convert');\n",
              "        buttonEl.style.display =\n",
              "          google.colab.kernel.accessAllowed ? 'block' : 'none';\n",
              "\n",
              "        async function convertToInteractive(key) {\n",
              "          const element = document.querySelector('#df-d1be5fe2-ccbb-4d63-955b-c055d1a02256');\n",
              "          const dataTable =\n",
              "            await google.colab.kernel.invokeFunction('convertToInteractive',\n",
              "                                                     [key], {});\n",
              "          if (!dataTable) return;\n",
              "\n",
              "          const docLinkHtml = 'Like what you see? Visit the ' +\n",
              "            '<a target=\"_blank\" href=https://colab.research.google.com/notebooks/data_table.ipynb>data table notebook</a>'\n",
              "            + ' to learn more about interactive tables.';\n",
              "          element.innerHTML = '';\n",
              "          dataTable['output_type'] = 'display_data';\n",
              "          await google.colab.output.renderOutput(dataTable, element);\n",
              "          const docLink = document.createElement('div');\n",
              "          docLink.innerHTML = docLinkHtml;\n",
              "          element.appendChild(docLink);\n",
              "        }\n",
              "      </script>\n",
              "    </div>\n",
              "  </div>\n",
              "  "
            ],
            "text/plain": [
              "      lnLExp_r      lnLDev_r  deVMag_r  ...  petroR50_i  petroR90_i  new class\n",
              "0 -3161.775000 -12036.470000  14.45502  ...   15.296520        30.0          0\n",
              "1   -41.851900    -30.718090  18.53920  ...    0.585767         1.0          1\n",
              "2 -1204.695000  -1203.993000  14.18365  ...    0.625252         1.5          1\n",
              "3   -18.989380   -113.006700  17.08236  ...    1.079663         2.5          1\n",
              "4   -55.213150    -20.601030  17.58136  ...    0.815925         2.0          1\n",
              "5    -0.057372     -0.068952  19.74987  ...    0.459221         1.0          1\n",
              "\n",
              "[6 rows x 10 columns]"
            ]
          },
          "metadata": {},
          "execution_count": 18
        }
      ]
    },
    {
      "cell_type": "code",
      "source": [
        "# Write into Excel (Google Drive)\n",
        "\n",
        "# Mount google drive to write into existing excel file\n",
        "from google.colab import drive\n",
        "drive.mount('/content/gdrive')\n",
        "\n",
        "# Excel file location\n",
        "file_location = input('File location: /content/gdrive/MyDrive/')\n",
        "results_pred.to_excel(excel_writer = r'/content/gdrive/MyDrive/{0}'.format(file_location))  # 18-22 USM/Courses/WMU 102/test.xlsx"
      ],
      "metadata": {
        "id": "28tLQQHPJgFW",
        "colab": {
          "base_uri": "https://localhost:8080/"
        },
        "outputId": "4e21b677-e6c8-49e9-bdf3-bf02ac1b5abb"
      },
      "execution_count": null,
      "outputs": [
        {
          "name": "stdout",
          "output_type": "stream",
          "text": [
            "Drive already mounted at /content/gdrive; to attempt to forcibly remount, call drive.mount(\"/content/gdrive\", force_remount=True).\n",
            "File location: /content/gdrive/MyDrive/18-22 USM/Courses/WMU 102/test.xlsx\n"
          ]
        }
      ]
    },
    {
      "cell_type": "markdown",
      "source": [
        "# Conclusion"
      ],
      "metadata": {
        "id": "sEBtFMWj6dBs"
      }
    },
    {
      "cell_type": "markdown",
      "source": [
        "Random forest classifier (RF) is chosen to be the model for our star/galaxy classifier with an accuracy of 0.972 and a F1 score of 0.973. Other classifiers such as decision tree (DT), MLP classifier (MLP), logistic regression (LR) and Naive-Bayes (GNB) performed well above the 90% accuracy rate where their scores are 0.961, 0.957, 0.943 and 0.930 respectively. However, K-nearest neighbors (KNN) and support vector classifier (SVC) underperformed at accuracy scores of 0.819 and 0.768 respectively."
      ],
      "metadata": {
        "id": "3EYrbzC77BxJ"
      }
    },
    {
      "cell_type": "markdown",
      "source": [
        "# References\n"
      ],
      "metadata": {
        "id": "V15qXyXMHd9M"
      }
    },
    {
      "cell_type": "markdown",
      "source": [
        "\n",
        "Introduction\n",
        "1. https://www.atnf.csiro.au/outreach/education/senior/astrophysics/spectra_astro_types.html\n",
        "\n",
        "Data\n",
        "1. http://cas.sdss.org/dr8/en/\n",
        "2. https://www.sdss.org/dr15/algorithms/magnitudes/\n",
        "\n",
        "\n",
        "Supervised Learning Models\n",
        "1. https://www.kaggle.com/adrianban/star-types-classification\n",
        "2. https://www.upgrad.com/blog/types-of-supervised-learning/\n",
        "3. SVM - https://scikit-learn.org/stable/modules/svm.html\n",
        "4. SVM - https://scikit-learn.org/stable/modules/generated/sklearn.svm.SVC.html\n",
        "5. SVM - https://towardsdatascience.com/support-vector-machine-introduction-to-machine-learning-algorithms-934a444fca47\n",
        "6. SVM - https://dzone.com/articles/using-jsonb-in-postgresql-how-to-effectively-store-1\n",
        "7. DT - https://towardsdatascience.com/decision-tree-classifier-explained-in-real-life-picking-a-vacation-destination-6226b2b60575\n",
        "8. DT - https://scikit-learn.org/stable/modules/tree.html\n",
        "9. RF - https://corporatefinanceinstitute.com/resources/knowledge/other/random-forest/\n",
        "10. RF - https://scikit-learn.org/stable/modules/generated/sklearn.ensemble.RandomForestClassifier.html\n",
        "11. MLP - https://scikit-learn.org/stable/modules/generated/sklearn.neural_network.MLPClassifier.html\n",
        "12. MLP - https://towardsdatascience.com/deep-neural-multilayer-perceptron-mlp-with-scikit-learn-2698e77155e\n",
        "13. https://projects.uplevel.work/insights/confusion-matrix-accuracy-sensitivity-specificity-precision-f1-score-how-to-interpret\n",
        "14. https://medium.com/geekculture/metrics-for-classification-confusion-matrix-43ee441d2947\n",
        "\n",
        "Discussion\n",
        "1. https://www.quora.com/What-is-better-k-nearest-neighbors-algorithm-k-NN-or-Support-Vector-Machine-SVM-classifier-Which-algorithm-is-mostly-used-practically-Which-algorithm-guarantees-reliable-detection-in-unpredictable-situations\n",
        "2. https://bmcmedinformdecismak.biomedcentral.com/articles/10.1186/s12911-019-1004-8\n",
        "3. https://towardsdatascience.com/3-reasons-to-use-random-forest-over-a-neural-network-comparing-machine-learning-versus-deep-f9d65a154d89"
      ],
      "metadata": {
        "id": "WQukAwP78lVR"
      }
    }
  ]
}